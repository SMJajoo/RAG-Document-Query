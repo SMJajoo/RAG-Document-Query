{
 "cells": [
  {
   "cell_type": "markdown",
   "id": "a9cd1ea1-afdd-4d8a-b314-8b018de43c84",
   "metadata": {},
   "source": [
    "# Load and extract text from PDF files"
   ]
  },
  {
   "cell_type": "code",
   "execution_count": 1,
   "id": "43a83507-fa41-4795-8d79-96643894f889",
   "metadata": {},
   "outputs": [
    {
     "name": "stdout",
     "output_type": "stream",
     "text": [
      "Collecting pdfplumber==0.11.1\n",
      "  Downloading pdfplumber-0.11.1-py3-none-any.whl (57 kB)\n",
      "\u001b[K     |████████████████████████████████| 57 kB 4.2 MB/s  eta 0:00:01\n",
      "\u001b[?25hRequirement already satisfied: Pillow>=9.1 in /home/labsuser/.local/lib/python3.8/site-packages (from pdfplumber==0.11.1) (10.4.0)\n",
      "Collecting pypdfium2>=4.18.0\n",
      "  Downloading pypdfium2-4.30.0-py3-none-manylinux_2_17_x86_64.manylinux2014_x86_64.whl (2.8 MB)\n",
      "\u001b[K     |████████████████████████████████| 2.8 MB 12.7 MB/s eta 0:00:01\n",
      "\u001b[?25hCollecting pdfminer.six==20231228\n",
      "  Downloading pdfminer.six-20231228-py3-none-any.whl (5.6 MB)\n",
      "\u001b[K     |████████████████████████████████| 5.6 MB 56.0 MB/s eta 0:00:01\n",
      "\u001b[?25hRequirement already satisfied: charset-normalizer>=2.0.0 in /usr/local/lib/python3.8/dist-packages (from pdfminer.six==20231228->pdfplumber==0.11.1) (3.3.2)\n",
      "Collecting cryptography>=36.0.0\n",
      "  Downloading cryptography-43.0.0-cp37-abi3-manylinux_2_17_x86_64.manylinux2014_x86_64.whl (4.0 MB)\n",
      "\u001b[K     |████████████████████████████████| 4.0 MB 55.0 MB/s eta 0:00:01\n",
      "\u001b[?25hRequirement already satisfied: cffi>=1.12; platform_python_implementation != \"PyPy\" in /usr/local/lib/python3.8/dist-packages (from cryptography>=36.0.0->pdfminer.six==20231228->pdfplumber==0.11.1) (1.16.0)\n",
      "Requirement already satisfied: pycparser in /usr/local/lib/python3.8/dist-packages (from cffi>=1.12; platform_python_implementation != \"PyPy\"->cryptography>=36.0.0->pdfminer.six==20231228->pdfplumber==0.11.1) (2.22)\n",
      "Installing collected packages: pypdfium2, cryptography, pdfminer.six, pdfplumber\n",
      "\u001b[33m  WARNING: The script pypdfium2 is installed in '/home/labsuser/.local/bin' which is not on PATH.\n",
      "  Consider adding this directory to PATH or, if you prefer to suppress this warning, use --no-warn-script-location.\n",
      "  NOTE: The current PATH contains path(s) starting with `~`, which may not be expanded by all applications.\u001b[0m\n",
      "\u001b[33m  WARNING: The script pdfplumber is installed in '/home/labsuser/.local/bin' which is not on PATH.\n",
      "  Consider adding this directory to PATH or, if you prefer to suppress this warning, use --no-warn-script-location.\n",
      "  NOTE: The current PATH contains path(s) starting with `~`, which may not be expanded by all applications.\u001b[0m\n",
      "Successfully installed cryptography-43.0.0 pdfminer.six-20231228 pdfplumber-0.11.1 pypdfium2-4.30.0\n",
      "Note: you may need to restart the kernel to use updated packages.\n"
     ]
    }
   ],
   "source": [
    "%pip install pdfplumber==0.11.1"
   ]
  },
  {
   "cell_type": "code",
   "execution_count": 2,
   "id": "3a03c2ab-2a18-4a7d-b0e4-0e0243813e38",
   "metadata": {},
   "outputs": [],
   "source": [
    "import os\n",
    "import pdfplumber"
   ]
  },
  {
   "cell_type": "code",
   "execution_count": 3,
   "id": "467aba5a-1f5c-4b87-8929-cb0c4ef7677e",
   "metadata": {},
   "outputs": [
    {
     "name": "stdout",
     "output_type": "stream",
     "text": [
      "NexGen AI Tech Solutions\n",
      "Quarterly Earnings\n",
      "Report for Q2 2024\n",
      "4th June, 2024 Contents\n",
      "1. ExecutiveSummary\n",
      "2. FinancialPerformance\n",
      "3. RevenuebyDepartment\n",
      "4. StrategicInitiatives\n",
      "5. ExpectedPerformancefortheRestof2024\n",
      "6. Conclusion\n",
      "1 Executive Summary\n",
      "InQ22024,NexGenAITechSolutionscontinuedtodriveexceptionalgrowththroughthe\n",
      "strategicintegrationofAItechnologiesacrossourservicespectrum.Theadoptionof\n",
      "cutting-edgeAIapplicationshasresultedinaremarkable20%growthintotalrevenuecompared\n",
      "toQ22023,affirmingourleadershipinthetechsolutionssector.\n",
      "2 Financial Performance\n",
      "FinancialPerformanceinQ22024\n",
      "● TotalRevenue:$6.5million,up20%from$5.4millioninQ22023.\n",
      "● GrossProfit:$4.8million,representingagrossmarginof73.8%.\n",
      "● OperatingExpenses:$2.5million,focusedonexpandingourAIcapabilitiesand\n",
      "infrastructure.\n",
      "● NetIncome:$2.3million,anetmarginof35.4%,upfrom$2.0millioninQ22023.\n",
      "3 Revenue by Department\n",
      "● AI-PoweredCloudServices:$2.8million,up25%from$2.24million.\n",
      "● AI-EnhancedCybersecuritySolutions:$2.0million,up18%from$1.7million.\n",
      "● AIStrategiesConsulting:$1.2million,up10%from$1.09million.\n",
      "● SupportandAIMaintenance:$500,000,consistentgrowthat10%from$454,000.\n",
      "4 Strategic Initiatives\n",
      "StrategicInitiativesfor2024\n",
      "Fortheremainderof2024,NexGenAITechSolutionsaimsto:\n",
      "1. ExpandourAIresearchanddevelopmenttopioneernewtechsolutions.\n",
      "2. StrengthenourmarketpresenceinEuropeandAsia.\n",
      "3. EnhancecustomerengagementthroughAI-drivenanalyticsandpersonalizedservices.\n",
      "1.ExpandAIResearchandDevelopment\n",
      "NexGenAITechSolutionsplanstoincreaseinvestmentinourAIresearchanddevelopment\n",
      "departmentby20%overthenexttwoquarters.Thisexpansionwillfocusondeveloping\n",
      "proprietaryAIalgorithmsthatcanprovidepredictiveanalyticsforcloudcomputingandenhance\n",
      "threatdetectionincybersecuritysolutions.Byleadinginnovationintheseareas,weaimtoset\n",
      "newindustrystandardsandprovideourclientswithunmatchedtechnologicaladvantages.\n",
      "2.StrengthenMarketPresenceinEuropeandAsia\n",
      "InresponsetogrowingdemandforAIsolutionsinEuropeandAsia,NexGenAITechSolutions\n",
      "willinitiateaseriesofmarketentryandexpansionstrategies.Theseincludeestablishing\n",
      "partnershipswithlocalfirms,participatinginmajortechexpos,andsettingupregionalofficesin\n",
      "keycitiessuchasBerlin,Singapore,andTokyo.Theseeffortsareexpectedtoincreaseour\n",
      "internationalsalesby15%andenhanceglobalbrandrecognition.\n",
      "3.EnhanceCustomerEngagementThroughAI-DrivenAnalytics\n",
      "WeplantolaunchanewcustomerengagementplatformthatutilizesAItopersonalize\n",
      "interactionsandimproveservicedelivery.Thisplatformwillanalyzecustomerdatainreal-timeto\n",
      "offercustomizedrecommendationsandsupport.Enhancementsincustomerserviceare\n",
      "projectedtoincreasecustomersatisfactionratesby10%andreducechurnby5%.\n",
      "5 Expected Performance for the Rest of 2024\n",
      "Basedonthestrategicinitiativesoutlinedandcurrentmarkettrends,NexGenAITechSolutionsis\n",
      "positionedforstrongperformancethroughouttheremainderof2024.Weanticipatethefollowing\n",
      "developments:\n",
      "RevenueGrowth:ContinuedinvestmentinAIcapabilitiesandexpansionintonewmarketsare\n",
      "expectedtodrivearevenueincreaseofapproximately12-15%bytheendoftheyear.\n",
      "ProfitMargins:AsourAIsolutionsgainmaturityandefficiency,weexpecttoseeimprovedprofit\n",
      "margins,potentiallyreachinganetmarginof37%bytheyear'send.\n",
      "MarketShare:Withaggressiveexpansionandinnovativeofferings,ourmarketshareintheAI\n",
      "solutionssectorisprojectedtogrowby8%globally.\n",
      "CustomerBaseExpansion:Initiativesaimedatenhancingcustomerengagementandentering\n",
      "newmarketsarelikelytoexpandourcustomerbaseby20%,particularlyintheenterpriseand\n",
      "mid-marketsegments.\n",
      "Theseprojectionsarebasedoncurrentstrategicplansandmarketconditions,andtheyhighlight\n",
      "ouroptimisticoutlookforthefinancialandoperationalgrowthofNexGenAITechSolutionsin\n",
      "2024.Ifyouneedfurtherdetailsoradjustmentstothisforecast,pleaseletmeknow!\n",
      "6 Conclusion\n",
      "NexGenAITechSolutionsisonasolidpathofgrowth,withAIintegrationprovingtobeakey\n",
      "driverofoursuccess.Asweadvancethrough2024,weremaincommittedtoleveragingAIto\n",
      "deliversuperiortechnologysolutions,ensuringrobustfinancialperformanceandcontinued\n",
      "marketleadership.\n",
      "7 NexGen AI Tech Solutions - Quarterly Earnings Meeting - Q2 2024\n",
      "Quarterly Earnings Meeting - Q2 2024\n",
      "Date: June 15, 2024\n",
      "Location: Conference Room A\n",
      "Attendees:\n",
      "- Jessica Hynes, CEO\n",
      "- Martin Wells, CFO\n",
      "- Samantha Lee, CTO\n",
      "- Alan Rickman, Director of AI Research and Development\n",
      "- Tanya Morris, Director of European Market Expansion\n",
      "- Henry Cho, Director of Asian Market Operations\n",
      "- Elaine Gupta, Customer Engagement Manager\n",
      "Meeting Agenda:\n",
      "1. Review of Q2 Financial Performance\n",
      "2. Departmental Revenue Analysis\n",
      "3. Strategic Initiatives and Roadmap for 2024\n",
      "4. Customer Engagement Enhancements\n",
      "5. Market Trends and Projections\n",
      "6. Open Discussion and Strategic Adjustments\n",
      "7. Conclusion and Next Steps\n",
      "Detailed Meeting Notes:\n",
      "Page 1 NexGen AI Tech Solutions - Quarterly Earnings Meeting - Q2 2024\n",
      "1. Financial Overview:\n",
      "Martin Wells reported a significant 20% increase in total revenue for Q2 2024, reaching $6.5\n",
      "million. The net income rose to $2.3 million, marking a robust growth from the previous year.\n",
      "2. Revenue by Department:\n",
      "Samantha Lee highlighted exceptional growth in AI-Powered Cloud Services and AI-Enhanced\n",
      "Cybersecurity Solutions. A consistent growth was maintained in Support and AI Maintenance\n",
      "services.\n",
      "3. Strategic Initiatives for 2024:\n",
      "Alan Rickman detailed the plan to enhance AI R&D, with a budget increase of 20% aimed at\n",
      "developing proprietary AI algorithms.\n",
      "Tanya Morris and Henry Cho discussed strategies for strengthening market presence in Europe\n",
      "and Asia.\n",
      "4. Customer Engagement Enhancements:\n",
      "Elaine Gupta introduced a cutting-edge AI-driven platform designed to personalize customer\n",
      "interactions.\n",
      "5. Market Trends and Projections:\n",
      "Based on the strategic initiatives and current market dynamics, Henry Cho projected a 12-15%\n",
      "revenue increase by the year-end.\n",
      "6. Open Discussion:\n",
      "Page 2 NexGen AI Tech Solutions - Quarterly Earnings Meeting - Q2 2024\n",
      "Discussions revolved around potential challenges in international expansions, such as regulatory\n",
      "hurdles and local competition.\n",
      "7. Conclusion:\n",
      "Jessica Hynes concluded the meeting by appreciating the team's efforts and setting a follow-up\n",
      "meeting to review the progress on the discussed initiatives.\n",
      "Page 3 \n"
     ]
    }
   ],
   "source": [
    "combined_text = ''\n",
    "files_directory = 'files'\n",
    " \n",
    "# Loop through all files in the directory\n",
    "for filename in os.listdir(files_directory):\n",
    "    if filename.endswith('.pdf'):\n",
    "        # Open the PDF file\n",
    "        with pdfplumber.open(os.path.join(files_directory, filename)) as pdf:\n",
    "            # Loop through all pages in the PDF file\n",
    "            for page in pdf.pages:\n",
    "                # Extract the text from the page and add it to the rest of the text\n",
    "                combined_text += page.extract_text() + ' '\n",
    "                \n",
    "print(combined_text)"
   ]
  },
  {
   "cell_type": "markdown",
   "id": "3d225f04-a8fc-4ec5-a7ff-23de5d2b6fe6",
   "metadata": {},
   "source": [
    "# Text Preprocessign and Splitting"
   ]
  },
  {
   "cell_type": "markdown",
   "id": "8dbd8bef-a578-4b29-b218-97c27501eaef",
   "metadata": {},
   "source": [
    "By using a text splitter the goal is to optimize large text handling, enhancing LLM performance and processing efficiency."
   ]
  },
  {
   "cell_type": "code",
   "execution_count": 4,
   "id": "241b3706-bba4-47cb-822a-e427c187df2c",
   "metadata": {},
   "outputs": [
    {
     "name": "stdout",
     "output_type": "stream",
     "text": [
      "6156\n"
     ]
    }
   ],
   "source": [
    "print(len(combined_text))"
   ]
  },
  {
   "cell_type": "code",
   "execution_count": 6,
   "id": "49e80b13-5fbd-486e-8dfb-76cf6d30e8f5",
   "metadata": {},
   "outputs": [
    {
     "name": "stdout",
     "output_type": "stream",
     "text": [
      "Collecting sentence-transformers==3.0.1\n",
      "  Downloading sentence_transformers-3.0.1-py3-none-any.whl (227 kB)\n",
      "\u001b[K     |████████████████████████████████| 227 kB 13.0 MB/s eta 0:00:01\n",
      "\u001b[?25hRequirement already satisfied: scikit-learn in /home/labsuser/.local/lib/python3.8/site-packages (from sentence-transformers==3.0.1) (1.1.2)\n",
      "Requirement already satisfied: torch>=1.11.0 in /home/labsuser/.local/lib/python3.8/site-packages (from sentence-transformers==3.0.1) (2.3.1)\n",
      "Collecting transformers<5.0.0,>=4.34.0\n",
      "  Downloading transformers-4.43.3-py3-none-any.whl (9.4 MB)\n",
      "\u001b[K     |████████████████████████████████| 9.4 MB 49.0 MB/s eta 0:00:01\n",
      "\u001b[?25hRequirement already satisfied: scipy in /home/labsuser/.local/lib/python3.8/site-packages (from sentence-transformers==3.0.1) (1.8.0)\n",
      "Requirement already satisfied: numpy in /home/labsuser/.local/lib/python3.8/site-packages (from sentence-transformers==3.0.1) (1.22.0)\n",
      "Requirement already satisfied: tqdm in /home/labsuser/.local/lib/python3.8/site-packages (from sentence-transformers==3.0.1) (4.66.4)\n",
      "Collecting huggingface-hub>=0.15.1\n",
      "  Downloading huggingface_hub-0.24.3-py3-none-any.whl (417 kB)\n",
      "\u001b[K     |████████████████████████████████| 417 kB 47.8 MB/s eta 0:00:01\n",
      "\u001b[?25hRequirement already satisfied: Pillow in /home/labsuser/.local/lib/python3.8/site-packages (from sentence-transformers==3.0.1) (10.4.0)\n",
      "Requirement already satisfied: threadpoolctl>=2.0.0 in /home/labsuser/.local/lib/python3.8/site-packages (from scikit-learn->sentence-transformers==3.0.1) (3.5.0)\n",
      "Requirement already satisfied: joblib>=1.0.0 in /home/labsuser/.local/lib/python3.8/site-packages (from scikit-learn->sentence-transformers==3.0.1) (1.4.2)\n",
      "Requirement already satisfied: nvidia-cusolver-cu12==11.4.5.107; platform_system == \"Linux\" and platform_machine == \"x86_64\" in /home/labsuser/.local/lib/python3.8/site-packages (from torch>=1.11.0->sentence-transformers==3.0.1) (11.4.5.107)\n",
      "Requirement already satisfied: nvidia-cusparse-cu12==12.1.0.106; platform_system == \"Linux\" and platform_machine == \"x86_64\" in /home/labsuser/.local/lib/python3.8/site-packages (from torch>=1.11.0->sentence-transformers==3.0.1) (12.1.0.106)\n",
      "Requirement already satisfied: nvidia-cuda-runtime-cu12==12.1.105; platform_system == \"Linux\" and platform_machine == \"x86_64\" in /home/labsuser/.local/lib/python3.8/site-packages (from torch>=1.11.0->sentence-transformers==3.0.1) (12.1.105)\n",
      "Requirement already satisfied: jinja2 in /usr/local/lib/python3.8/dist-packages (from torch>=1.11.0->sentence-transformers==3.0.1) (3.1.4)\n",
      "Requirement already satisfied: networkx in /home/labsuser/.local/lib/python3.8/site-packages (from torch>=1.11.0->sentence-transformers==3.0.1) (3.1)\n",
      "Requirement already satisfied: nvidia-cuda-nvrtc-cu12==12.1.105; platform_system == \"Linux\" and platform_machine == \"x86_64\" in /home/labsuser/.local/lib/python3.8/site-packages (from torch>=1.11.0->sentence-transformers==3.0.1) (12.1.105)\n",
      "Requirement already satisfied: nvidia-cuda-cupti-cu12==12.1.105; platform_system == \"Linux\" and platform_machine == \"x86_64\" in /home/labsuser/.local/lib/python3.8/site-packages (from torch>=1.11.0->sentence-transformers==3.0.1) (12.1.105)\n",
      "Requirement already satisfied: nvidia-curand-cu12==10.3.2.106; platform_system == \"Linux\" and platform_machine == \"x86_64\" in /home/labsuser/.local/lib/python3.8/site-packages (from torch>=1.11.0->sentence-transformers==3.0.1) (10.3.2.106)\n",
      "Requirement already satisfied: nvidia-nvtx-cu12==12.1.105; platform_system == \"Linux\" and platform_machine == \"x86_64\" in /home/labsuser/.local/lib/python3.8/site-packages (from torch>=1.11.0->sentence-transformers==3.0.1) (12.1.105)\n",
      "Requirement already satisfied: nvidia-nccl-cu12==2.20.5; platform_system == \"Linux\" and platform_machine == \"x86_64\" in /home/labsuser/.local/lib/python3.8/site-packages (from torch>=1.11.0->sentence-transformers==3.0.1) (2.20.5)\n",
      "Requirement already satisfied: filelock in /home/labsuser/.local/lib/python3.8/site-packages (from torch>=1.11.0->sentence-transformers==3.0.1) (3.15.4)\n",
      "Requirement already satisfied: triton==2.3.1; platform_system == \"Linux\" and platform_machine == \"x86_64\" and python_version < \"3.12\" in /home/labsuser/.local/lib/python3.8/site-packages (from torch>=1.11.0->sentence-transformers==3.0.1) (2.3.1)\n",
      "Requirement already satisfied: nvidia-cublas-cu12==12.1.3.1; platform_system == \"Linux\" and platform_machine == \"x86_64\" in /home/labsuser/.local/lib/python3.8/site-packages (from torch>=1.11.0->sentence-transformers==3.0.1) (12.1.3.1)\n",
      "Requirement already satisfied: fsspec in /home/labsuser/.local/lib/python3.8/site-packages (from torch>=1.11.0->sentence-transformers==3.0.1) (2024.6.1)\n",
      "Requirement already satisfied: sympy in /home/labsuser/.local/lib/python3.8/site-packages (from torch>=1.11.0->sentence-transformers==3.0.1) (1.13.0)\n",
      "Requirement already satisfied: nvidia-cudnn-cu12==8.9.2.26; platform_system == \"Linux\" and platform_machine == \"x86_64\" in /home/labsuser/.local/lib/python3.8/site-packages (from torch>=1.11.0->sentence-transformers==3.0.1) (8.9.2.26)\n",
      "Requirement already satisfied: typing-extensions>=4.8.0 in /usr/local/lib/python3.8/dist-packages (from torch>=1.11.0->sentence-transformers==3.0.1) (4.12.2)\n",
      "Requirement already satisfied: nvidia-cufft-cu12==11.0.2.54; platform_system == \"Linux\" and platform_machine == \"x86_64\" in /home/labsuser/.local/lib/python3.8/site-packages (from torch>=1.11.0->sentence-transformers==3.0.1) (11.0.2.54)\n",
      "Requirement already satisfied: pyyaml>=5.1 in /home/labsuser/.local/lib/python3.8/site-packages (from transformers<5.0.0,>=4.34.0->sentence-transformers==3.0.1) (6.0.1)\n",
      "Requirement already satisfied: regex!=2019.12.17 in /home/labsuser/.local/lib/python3.8/site-packages (from transformers<5.0.0,>=4.34.0->sentence-transformers==3.0.1) (2024.7.24)\n",
      "Requirement already satisfied: requests in /usr/local/lib/python3.8/dist-packages (from transformers<5.0.0,>=4.34.0->sentence-transformers==3.0.1) (2.32.3)\n",
      "Collecting tokenizers<0.20,>=0.19\n",
      "  Downloading tokenizers-0.19.1-cp38-cp38-manylinux_2_17_x86_64.manylinux2014_x86_64.whl (3.6 MB)\n",
      "\u001b[K     |████████████████████████████████| 3.6 MB 48.5 MB/s eta 0:00:01\n",
      "\u001b[?25hCollecting safetensors>=0.4.1\n",
      "  Downloading safetensors-0.4.3-cp38-cp38-manylinux_2_17_x86_64.manylinux2014_x86_64.whl (1.2 MB)\n",
      "\u001b[K     |████████████████████████████████| 1.2 MB 41.0 MB/s eta 0:00:01\n",
      "\u001b[?25hRequirement already satisfied: packaging>=20.0 in /usr/local/lib/python3.8/dist-packages (from transformers<5.0.0,>=4.34.0->sentence-transformers==3.0.1) (24.1)\n",
      "Requirement already satisfied: nvidia-nvjitlink-cu12 in /home/labsuser/.local/lib/python3.8/site-packages (from nvidia-cusolver-cu12==11.4.5.107; platform_system == \"Linux\" and platform_machine == \"x86_64\"->torch>=1.11.0->sentence-transformers==3.0.1) (12.5.82)\n",
      "Requirement already satisfied: MarkupSafe>=2.0 in /usr/local/lib/python3.8/dist-packages (from jinja2->torch>=1.11.0->sentence-transformers==3.0.1) (2.1.5)\n",
      "Requirement already satisfied: mpmath<1.4,>=1.1.0 in /home/labsuser/.local/lib/python3.8/site-packages (from sympy->torch>=1.11.0->sentence-transformers==3.0.1) (1.3.0)\n",
      "Requirement already satisfied: urllib3<3,>=1.21.1 in /usr/local/lib/python3.8/dist-packages (from requests->transformers<5.0.0,>=4.34.0->sentence-transformers==3.0.1) (2.2.2)\n",
      "Requirement already satisfied: certifi>=2017.4.17 in /usr/local/lib/python3.8/dist-packages (from requests->transformers<5.0.0,>=4.34.0->sentence-transformers==3.0.1) (2024.7.4)\n",
      "Requirement already satisfied: idna<4,>=2.5 in /usr/local/lib/python3.8/dist-packages (from requests->transformers<5.0.0,>=4.34.0->sentence-transformers==3.0.1) (3.7)\n",
      "Requirement already satisfied: charset-normalizer<4,>=2 in /usr/local/lib/python3.8/dist-packages (from requests->transformers<5.0.0,>=4.34.0->sentence-transformers==3.0.1) (3.3.2)\n",
      "Installing collected packages: huggingface-hub, tokenizers, safetensors, transformers, sentence-transformers\n",
      "\u001b[33m  WARNING: The script huggingface-cli is installed in '/home/labsuser/.local/bin' which is not on PATH.\n",
      "  Consider adding this directory to PATH or, if you prefer to suppress this warning, use --no-warn-script-location.\n",
      "  NOTE: The current PATH contains path(s) starting with `~`, which may not be expanded by all applications.\u001b[0m\n",
      "\u001b[33m  WARNING: The script transformers-cli is installed in '/home/labsuser/.local/bin' which is not on PATH.\n",
      "  Consider adding this directory to PATH or, if you prefer to suppress this warning, use --no-warn-script-location.\n",
      "  NOTE: The current PATH contains path(s) starting with `~`, which may not be expanded by all applications.\u001b[0m\n",
      "Successfully installed huggingface-hub-0.24.3 safetensors-0.4.3 sentence-transformers-3.0.1 tokenizers-0.19.1 transformers-4.43.3\n",
      "Note: you may need to restart the kernel to use updated packages.\n",
      "Collecting langchain-community==0.2.5\n",
      "  Downloading langchain_community-0.2.5-py3-none-any.whl (2.2 MB)\n",
      "\u001b[K     |████████████████████████████████| 2.2 MB 12.0 MB/s eta 0:00:01\n",
      "\u001b[?25hRequirement already satisfied: PyYAML>=5.3 in /home/labsuser/.local/lib/python3.8/site-packages (from langchain-community==0.2.5) (6.0.1)\n",
      "Requirement already satisfied: requests<3,>=2 in /usr/local/lib/python3.8/dist-packages (from langchain-community==0.2.5) (2.32.3)\n",
      "Requirement already satisfied: langchain-core<0.3.0,>=0.2.7 in /home/labsuser/.local/lib/python3.8/site-packages (from langchain-community==0.2.5) (0.2.25)\n",
      "Requirement already satisfied: tenacity<9.0.0,>=8.1.0 in /home/labsuser/.local/lib/python3.8/site-packages (from langchain-community==0.2.5) (8.5.0)\n",
      "Requirement already satisfied: langsmith<0.2.0,>=0.1.0 in /home/labsuser/.local/lib/python3.8/site-packages (from langchain-community==0.2.5) (0.1.94)\n",
      "Requirement already satisfied: SQLAlchemy<3,>=1.4 in /home/labsuser/.local/lib/python3.8/site-packages (from langchain-community==0.2.5) (2.0.31)\n",
      "Requirement already satisfied: numpy<2,>=1; python_version < \"3.12\" in /home/labsuser/.local/lib/python3.8/site-packages (from langchain-community==0.2.5) (1.22.0)\n",
      "Requirement already satisfied: aiohttp<4.0.0,>=3.8.3 in /home/labsuser/.local/lib/python3.8/site-packages (from langchain-community==0.2.5) (3.9.5)\n",
      "Requirement already satisfied: langchain<0.3.0,>=0.2.5 in /home/labsuser/.local/lib/python3.8/site-packages (from langchain-community==0.2.5) (0.2.5)\n",
      "Collecting dataclasses-json<0.7,>=0.5.7\n",
      "  Downloading dataclasses_json-0.6.7-py3-none-any.whl (28 kB)\n",
      "Requirement already satisfied: charset-normalizer<4,>=2 in /usr/local/lib/python3.8/dist-packages (from requests<3,>=2->langchain-community==0.2.5) (3.3.2)\n",
      "Requirement already satisfied: idna<4,>=2.5 in /usr/local/lib/python3.8/dist-packages (from requests<3,>=2->langchain-community==0.2.5) (3.7)\n",
      "Requirement already satisfied: urllib3<3,>=1.21.1 in /usr/local/lib/python3.8/dist-packages (from requests<3,>=2->langchain-community==0.2.5) (2.2.2)\n",
      "Requirement already satisfied: certifi>=2017.4.17 in /usr/local/lib/python3.8/dist-packages (from requests<3,>=2->langchain-community==0.2.5) (2024.7.4)\n",
      "Requirement already satisfied: jsonpatch<2.0,>=1.33 in /home/labsuser/.local/lib/python3.8/site-packages (from langchain-core<0.3.0,>=0.2.7->langchain-community==0.2.5) (1.33)\n",
      "Requirement already satisfied: packaging<25,>=23.2 in /usr/local/lib/python3.8/dist-packages (from langchain-core<0.3.0,>=0.2.7->langchain-community==0.2.5) (24.1)\n",
      "Requirement already satisfied: pydantic<3,>=1; python_full_version < \"3.12.4\" in /home/labsuser/.local/lib/python3.8/site-packages (from langchain-core<0.3.0,>=0.2.7->langchain-community==0.2.5) (2.8.2)\n",
      "Requirement already satisfied: orjson<4.0.0,>=3.9.14 in /home/labsuser/.local/lib/python3.8/site-packages (from langsmith<0.2.0,>=0.1.0->langchain-community==0.2.5) (3.10.6)\n",
      "Requirement already satisfied: typing-extensions>=4.6.0 in /usr/local/lib/python3.8/dist-packages (from SQLAlchemy<3,>=1.4->langchain-community==0.2.5) (4.12.2)\n",
      "Requirement already satisfied: greenlet!=0.4.17; python_version < \"3.13\" and (platform_machine == \"aarch64\" or (platform_machine == \"ppc64le\" or (platform_machine == \"x86_64\" or (platform_machine == \"amd64\" or (platform_machine == \"AMD64\" or (platform_machine == \"win32\" or platform_machine == \"WIN32\")))))) in /home/labsuser/.local/lib/python3.8/site-packages (from SQLAlchemy<3,>=1.4->langchain-community==0.2.5) (3.0.3)\n",
      "Requirement already satisfied: frozenlist>=1.1.1 in /home/labsuser/.local/lib/python3.8/site-packages (from aiohttp<4.0.0,>=3.8.3->langchain-community==0.2.5) (1.4.1)\n",
      "Requirement already satisfied: aiosignal>=1.1.2 in /home/labsuser/.local/lib/python3.8/site-packages (from aiohttp<4.0.0,>=3.8.3->langchain-community==0.2.5) (1.3.1)\n",
      "Requirement already satisfied: async-timeout<5.0,>=4.0; python_version < \"3.11\" in /home/labsuser/.local/lib/python3.8/site-packages (from aiohttp<4.0.0,>=3.8.3->langchain-community==0.2.5) (4.0.3)\n",
      "Requirement already satisfied: yarl<2.0,>=1.0 in /home/labsuser/.local/lib/python3.8/site-packages (from aiohttp<4.0.0,>=3.8.3->langchain-community==0.2.5) (1.9.4)\n",
      "Requirement already satisfied: multidict<7.0,>=4.5 in /home/labsuser/.local/lib/python3.8/site-packages (from aiohttp<4.0.0,>=3.8.3->langchain-community==0.2.5) (6.0.5)\n",
      "Requirement already satisfied: attrs>=17.3.0 in /usr/local/lib/python3.8/dist-packages (from aiohttp<4.0.0,>=3.8.3->langchain-community==0.2.5) (23.2.0)\n",
      "Requirement already satisfied: langchain-text-splitters<0.3.0,>=0.2.0 in /home/labsuser/.local/lib/python3.8/site-packages (from langchain<0.3.0,>=0.2.5->langchain-community==0.2.5) (0.2.2)\n",
      "Collecting marshmallow<4.0.0,>=3.18.0\n",
      "  Downloading marshmallow-3.21.3-py3-none-any.whl (49 kB)\n",
      "\u001b[K     |████████████████████████████████| 49 kB 7.7 MB/s  eta 0:00:01\n",
      "\u001b[?25hCollecting typing-inspect<1,>=0.4.0\n",
      "  Downloading typing_inspect-0.9.0-py3-none-any.whl (8.8 kB)\n",
      "Requirement already satisfied: jsonpointer>=1.9 in /home/labsuser/.local/lib/python3.8/site-packages (from jsonpatch<2.0,>=1.33->langchain-core<0.3.0,>=0.2.7->langchain-community==0.2.5) (3.0.0)\n",
      "Requirement already satisfied: pydantic-core==2.20.1 in /home/labsuser/.local/lib/python3.8/site-packages (from pydantic<3,>=1; python_full_version < \"3.12.4\"->langchain-core<0.3.0,>=0.2.7->langchain-community==0.2.5) (2.20.1)\n",
      "Requirement already satisfied: annotated-types>=0.4.0 in /home/labsuser/.local/lib/python3.8/site-packages (from pydantic<3,>=1; python_full_version < \"3.12.4\"->langchain-core<0.3.0,>=0.2.7->langchain-community==0.2.5) (0.7.0)\n",
      "Collecting mypy-extensions>=0.3.0\n",
      "  Downloading mypy_extensions-1.0.0-py3-none-any.whl (4.7 kB)\n",
      "Installing collected packages: marshmallow, mypy-extensions, typing-inspect, dataclasses-json, langchain-community\n",
      "Successfully installed dataclasses-json-0.6.7 langchain-community-0.2.5 marshmallow-3.21.3 mypy-extensions-1.0.0 typing-inspect-0.9.0\n",
      "Note: you may need to restart the kernel to use updated packages.\n",
      "Collecting langchain-huggingface==0.0.3\n",
      "  Downloading langchain_huggingface-0.0.3-py3-none-any.whl (17 kB)\n",
      "Requirement already satisfied: langchain-core<0.3,>=0.1.52 in /home/labsuser/.local/lib/python3.8/site-packages (from langchain-huggingface==0.0.3) (0.2.25)\n",
      "Requirement already satisfied: huggingface-hub>=0.23.0 in /home/labsuser/.local/lib/python3.8/site-packages (from langchain-huggingface==0.0.3) (0.24.3)\n",
      "Requirement already satisfied: sentence-transformers>=2.6.0 in /home/labsuser/.local/lib/python3.8/site-packages (from langchain-huggingface==0.0.3) (3.0.1)\n",
      "Requirement already satisfied: tokenizers>=0.19.1 in /home/labsuser/.local/lib/python3.8/site-packages (from langchain-huggingface==0.0.3) (0.19.1)\n",
      "Requirement already satisfied: transformers>=4.39.0 in /home/labsuser/.local/lib/python3.8/site-packages (from langchain-huggingface==0.0.3) (4.43.3)\n",
      "Requirement already satisfied: pydantic<3,>=1; python_full_version < \"3.12.4\" in /home/labsuser/.local/lib/python3.8/site-packages (from langchain-core<0.3,>=0.1.52->langchain-huggingface==0.0.3) (2.8.2)\n",
      "Requirement already satisfied: PyYAML>=5.3 in /home/labsuser/.local/lib/python3.8/site-packages (from langchain-core<0.3,>=0.1.52->langchain-huggingface==0.0.3) (6.0.1)\n",
      "Requirement already satisfied: jsonpatch<2.0,>=1.33 in /home/labsuser/.local/lib/python3.8/site-packages (from langchain-core<0.3,>=0.1.52->langchain-huggingface==0.0.3) (1.33)\n",
      "Requirement already satisfied: packaging<25,>=23.2 in /usr/local/lib/python3.8/dist-packages (from langchain-core<0.3,>=0.1.52->langchain-huggingface==0.0.3) (24.1)\n",
      "Requirement already satisfied: langsmith<0.2.0,>=0.1.75 in /home/labsuser/.local/lib/python3.8/site-packages (from langchain-core<0.3,>=0.1.52->langchain-huggingface==0.0.3) (0.1.94)\n",
      "Requirement already satisfied: tenacity!=8.4.0,<9.0.0,>=8.1.0 in /home/labsuser/.local/lib/python3.8/site-packages (from langchain-core<0.3,>=0.1.52->langchain-huggingface==0.0.3) (8.5.0)\n",
      "Requirement already satisfied: fsspec>=2023.5.0 in /home/labsuser/.local/lib/python3.8/site-packages (from huggingface-hub>=0.23.0->langchain-huggingface==0.0.3) (2024.6.1)\n",
      "Requirement already satisfied: tqdm>=4.42.1 in /home/labsuser/.local/lib/python3.8/site-packages (from huggingface-hub>=0.23.0->langchain-huggingface==0.0.3) (4.66.4)\n",
      "Requirement already satisfied: typing-extensions>=3.7.4.3 in /usr/local/lib/python3.8/dist-packages (from huggingface-hub>=0.23.0->langchain-huggingface==0.0.3) (4.12.2)\n",
      "Requirement already satisfied: filelock in /home/labsuser/.local/lib/python3.8/site-packages (from huggingface-hub>=0.23.0->langchain-huggingface==0.0.3) (3.15.4)\n",
      "Requirement already satisfied: requests in /usr/local/lib/python3.8/dist-packages (from huggingface-hub>=0.23.0->langchain-huggingface==0.0.3) (2.32.3)\n",
      "Requirement already satisfied: numpy in /home/labsuser/.local/lib/python3.8/site-packages (from sentence-transformers>=2.6.0->langchain-huggingface==0.0.3) (1.22.0)\n",
      "Requirement already satisfied: torch>=1.11.0 in /home/labsuser/.local/lib/python3.8/site-packages (from sentence-transformers>=2.6.0->langchain-huggingface==0.0.3) (2.3.1)\n",
      "Requirement already satisfied: scikit-learn in /home/labsuser/.local/lib/python3.8/site-packages (from sentence-transformers>=2.6.0->langchain-huggingface==0.0.3) (1.1.2)\n",
      "Requirement already satisfied: Pillow in /home/labsuser/.local/lib/python3.8/site-packages (from sentence-transformers>=2.6.0->langchain-huggingface==0.0.3) (10.4.0)\n",
      "Requirement already satisfied: scipy in /home/labsuser/.local/lib/python3.8/site-packages (from sentence-transformers>=2.6.0->langchain-huggingface==0.0.3) (1.8.0)\n",
      "Requirement already satisfied: safetensors>=0.4.1 in /home/labsuser/.local/lib/python3.8/site-packages (from transformers>=4.39.0->langchain-huggingface==0.0.3) (0.4.3)\n",
      "Requirement already satisfied: regex!=2019.12.17 in /home/labsuser/.local/lib/python3.8/site-packages (from transformers>=4.39.0->langchain-huggingface==0.0.3) (2024.7.24)\n",
      "Requirement already satisfied: annotated-types>=0.4.0 in /home/labsuser/.local/lib/python3.8/site-packages (from pydantic<3,>=1; python_full_version < \"3.12.4\"->langchain-core<0.3,>=0.1.52->langchain-huggingface==0.0.3) (0.7.0)\n",
      "Requirement already satisfied: pydantic-core==2.20.1 in /home/labsuser/.local/lib/python3.8/site-packages (from pydantic<3,>=1; python_full_version < \"3.12.4\"->langchain-core<0.3,>=0.1.52->langchain-huggingface==0.0.3) (2.20.1)\n",
      "Requirement already satisfied: jsonpointer>=1.9 in /home/labsuser/.local/lib/python3.8/site-packages (from jsonpatch<2.0,>=1.33->langchain-core<0.3,>=0.1.52->langchain-huggingface==0.0.3) (3.0.0)\n",
      "Requirement already satisfied: orjson<4.0.0,>=3.9.14 in /home/labsuser/.local/lib/python3.8/site-packages (from langsmith<0.2.0,>=0.1.75->langchain-core<0.3,>=0.1.52->langchain-huggingface==0.0.3) (3.10.6)\n",
      "Requirement already satisfied: urllib3<3,>=1.21.1 in /usr/local/lib/python3.8/dist-packages (from requests->huggingface-hub>=0.23.0->langchain-huggingface==0.0.3) (2.2.2)\n",
      "Requirement already satisfied: charset-normalizer<4,>=2 in /usr/local/lib/python3.8/dist-packages (from requests->huggingface-hub>=0.23.0->langchain-huggingface==0.0.3) (3.3.2)\n",
      "Requirement already satisfied: idna<4,>=2.5 in /usr/local/lib/python3.8/dist-packages (from requests->huggingface-hub>=0.23.0->langchain-huggingface==0.0.3) (3.7)\n",
      "Requirement already satisfied: certifi>=2017.4.17 in /usr/local/lib/python3.8/dist-packages (from requests->huggingface-hub>=0.23.0->langchain-huggingface==0.0.3) (2024.7.4)\n",
      "Requirement already satisfied: nvidia-cuda-runtime-cu12==12.1.105; platform_system == \"Linux\" and platform_machine == \"x86_64\" in /home/labsuser/.local/lib/python3.8/site-packages (from torch>=1.11.0->sentence-transformers>=2.6.0->langchain-huggingface==0.0.3) (12.1.105)\n",
      "Requirement already satisfied: nvidia-cudnn-cu12==8.9.2.26; platform_system == \"Linux\" and platform_machine == \"x86_64\" in /home/labsuser/.local/lib/python3.8/site-packages (from torch>=1.11.0->sentence-transformers>=2.6.0->langchain-huggingface==0.0.3) (8.9.2.26)\n",
      "Requirement already satisfied: nvidia-cufft-cu12==11.0.2.54; platform_system == \"Linux\" and platform_machine == \"x86_64\" in /home/labsuser/.local/lib/python3.8/site-packages (from torch>=1.11.0->sentence-transformers>=2.6.0->langchain-huggingface==0.0.3) (11.0.2.54)\n",
      "Requirement already satisfied: triton==2.3.1; platform_system == \"Linux\" and platform_machine == \"x86_64\" and python_version < \"3.12\" in /home/labsuser/.local/lib/python3.8/site-packages (from torch>=1.11.0->sentence-transformers>=2.6.0->langchain-huggingface==0.0.3) (2.3.1)\n",
      "Requirement already satisfied: nvidia-cusparse-cu12==12.1.0.106; platform_system == \"Linux\" and platform_machine == \"x86_64\" in /home/labsuser/.local/lib/python3.8/site-packages (from torch>=1.11.0->sentence-transformers>=2.6.0->langchain-huggingface==0.0.3) (12.1.0.106)\n",
      "Requirement already satisfied: nvidia-cuda-cupti-cu12==12.1.105; platform_system == \"Linux\" and platform_machine == \"x86_64\" in /home/labsuser/.local/lib/python3.8/site-packages (from torch>=1.11.0->sentence-transformers>=2.6.0->langchain-huggingface==0.0.3) (12.1.105)\n",
      "Requirement already satisfied: networkx in /home/labsuser/.local/lib/python3.8/site-packages (from torch>=1.11.0->sentence-transformers>=2.6.0->langchain-huggingface==0.0.3) (3.1)\n",
      "Requirement already satisfied: sympy in /home/labsuser/.local/lib/python3.8/site-packages (from torch>=1.11.0->sentence-transformers>=2.6.0->langchain-huggingface==0.0.3) (1.13.0)\n",
      "Requirement already satisfied: nvidia-nvtx-cu12==12.1.105; platform_system == \"Linux\" and platform_machine == \"x86_64\" in /home/labsuser/.local/lib/python3.8/site-packages (from torch>=1.11.0->sentence-transformers>=2.6.0->langchain-huggingface==0.0.3) (12.1.105)\n",
      "Requirement already satisfied: nvidia-cublas-cu12==12.1.3.1; platform_system == \"Linux\" and platform_machine == \"x86_64\" in /home/labsuser/.local/lib/python3.8/site-packages (from torch>=1.11.0->sentence-transformers>=2.6.0->langchain-huggingface==0.0.3) (12.1.3.1)\n",
      "Requirement already satisfied: jinja2 in /usr/local/lib/python3.8/dist-packages (from torch>=1.11.0->sentence-transformers>=2.6.0->langchain-huggingface==0.0.3) (3.1.4)\n",
      "Requirement already satisfied: nvidia-cuda-nvrtc-cu12==12.1.105; platform_system == \"Linux\" and platform_machine == \"x86_64\" in /home/labsuser/.local/lib/python3.8/site-packages (from torch>=1.11.0->sentence-transformers>=2.6.0->langchain-huggingface==0.0.3) (12.1.105)\n",
      "Requirement already satisfied: nvidia-curand-cu12==10.3.2.106; platform_system == \"Linux\" and platform_machine == \"x86_64\" in /home/labsuser/.local/lib/python3.8/site-packages (from torch>=1.11.0->sentence-transformers>=2.6.0->langchain-huggingface==0.0.3) (10.3.2.106)\n",
      "Requirement already satisfied: nvidia-cusolver-cu12==11.4.5.107; platform_system == \"Linux\" and platform_machine == \"x86_64\" in /home/labsuser/.local/lib/python3.8/site-packages (from torch>=1.11.0->sentence-transformers>=2.6.0->langchain-huggingface==0.0.3) (11.4.5.107)\n",
      "Requirement already satisfied: nvidia-nccl-cu12==2.20.5; platform_system == \"Linux\" and platform_machine == \"x86_64\" in /home/labsuser/.local/lib/python3.8/site-packages (from torch>=1.11.0->sentence-transformers>=2.6.0->langchain-huggingface==0.0.3) (2.20.5)\n",
      "Requirement already satisfied: threadpoolctl>=2.0.0 in /home/labsuser/.local/lib/python3.8/site-packages (from scikit-learn->sentence-transformers>=2.6.0->langchain-huggingface==0.0.3) (3.5.0)\n",
      "Requirement already satisfied: joblib>=1.0.0 in /home/labsuser/.local/lib/python3.8/site-packages (from scikit-learn->sentence-transformers>=2.6.0->langchain-huggingface==0.0.3) (1.4.2)\n",
      "Requirement already satisfied: nvidia-nvjitlink-cu12 in /home/labsuser/.local/lib/python3.8/site-packages (from nvidia-cusparse-cu12==12.1.0.106; platform_system == \"Linux\" and platform_machine == \"x86_64\"->torch>=1.11.0->sentence-transformers>=2.6.0->langchain-huggingface==0.0.3) (12.5.82)\n",
      "Requirement already satisfied: mpmath<1.4,>=1.1.0 in /home/labsuser/.local/lib/python3.8/site-packages (from sympy->torch>=1.11.0->sentence-transformers>=2.6.0->langchain-huggingface==0.0.3) (1.3.0)\n",
      "Requirement already satisfied: MarkupSafe>=2.0 in /usr/local/lib/python3.8/dist-packages (from jinja2->torch>=1.11.0->sentence-transformers>=2.6.0->langchain-huggingface==0.0.3) (2.1.5)\n",
      "Installing collected packages: langchain-huggingface\n",
      "Successfully installed langchain-huggingface-0.0.3\n",
      "Note: you may need to restart the kernel to use updated packages.\n"
     ]
    }
   ],
   "source": [
    "%pip install sentence-transformers==3.0.1\n",
    "%pip install langchain-community==0.2.5\n",
    "%pip install langchain-huggingface==0.0.3"
   ]
  },
  {
   "cell_type": "code",
   "execution_count": 5,
   "id": "989c774f-c4aa-472a-a09a-9394668665de",
   "metadata": {},
   "outputs": [
    {
     "name": "stdout",
     "output_type": "stream",
     "text": [
      "7\n"
     ]
    }
   ],
   "source": [
    "from langchain.text_splitter import RecursiveCharacterTextSplitter\n",
    "\n",
    "text_splitter = RecursiveCharacterTextSplitter(chunk_size=1000, chunk_overlap=0)\n",
    "\n",
    "text_chunks = text_splitter.split_text(combined_text)\n",
    "\n",
    "print(len(text_chunks))"
   ]
  },
  {
   "cell_type": "markdown",
   "id": "c56a2962-a1fa-401b-944e-4f39acbc1698",
   "metadata": {},
   "source": [
    "# Generate Text Embedding"
   ]
  },
  {
   "cell_type": "markdown",
   "id": "4b8e13a6-4761-49c5-8242-8d46aeac986b",
   "metadata": {},
   "source": [
    "To allow for more accurate and relevant search results, represent the text in the PDF documents as vectors by creating embeddings, which are numerical representations of text data.\n",
    "\n",
    "Use an open-source sentence transformer model from HuggingFace to compute the embeddings: \n",
    "\n",
    "sentence-transformers/paraphrase-MiniLM-L6-v2\n",
    "\n",
    "Store the texts and the embeddings in a FAISS (Facebook AI Similarity Search) vector store."
   ]
  },
  {
   "cell_type": "code",
   "execution_count": 7,
   "id": "d063217d-2e82-43a2-93d9-d8f851298562",
   "metadata": {},
   "outputs": [
    {
     "name": "stderr",
     "output_type": "stream",
     "text": [
      "/home/labsuser/.local/lib/python3.8/site-packages/sentence_transformers/cross_encoder/CrossEncoder.py:11: TqdmExperimentalWarning: Using `tqdm.autonotebook.tqdm` in notebook mode. Use `tqdm.tqdm` instead to force console mode (e.g. in jupyter console)\n",
      "  from tqdm.autonotebook import tqdm, trange\n"
     ]
    },
    {
     "data": {
      "application/vnd.jupyter.widget-view+json": {
       "model_id": "e1fd8be3576843fc8b781b303a2f2d2e",
       "version_major": 2,
       "version_minor": 0
      },
      "text/plain": [
       "modules.json:   0%|          | 0.00/229 [00:00<?, ?B/s]"
      ]
     },
     "metadata": {},
     "output_type": "display_data"
    },
    {
     "data": {
      "application/vnd.jupyter.widget-view+json": {
       "model_id": "07877dc8ff13493d802f4f5ed97cb26f",
       "version_major": 2,
       "version_minor": 0
      },
      "text/plain": [
       "config_sentence_transformers.json:   0%|          | 0.00/122 [00:00<?, ?B/s]"
      ]
     },
     "metadata": {},
     "output_type": "display_data"
    },
    {
     "data": {
      "application/vnd.jupyter.widget-view+json": {
       "model_id": "89d31cfcf5064b0aa7166458e6507e5a",
       "version_major": 2,
       "version_minor": 0
      },
      "text/plain": [
       "README.md:   0%|          | 0.00/3.73k [00:00<?, ?B/s]"
      ]
     },
     "metadata": {},
     "output_type": "display_data"
    },
    {
     "data": {
      "application/vnd.jupyter.widget-view+json": {
       "model_id": "b2686f90829d46048bf615d45d60b5b9",
       "version_major": 2,
       "version_minor": 0
      },
      "text/plain": [
       "sentence_bert_config.json:   0%|          | 0.00/53.0 [00:00<?, ?B/s]"
      ]
     },
     "metadata": {},
     "output_type": "display_data"
    },
    {
     "data": {
      "application/vnd.jupyter.widget-view+json": {
       "model_id": "b8947118ec6c4b34aa890101fa90ae99",
       "version_major": 2,
       "version_minor": 0
      },
      "text/plain": [
       "config.json:   0%|          | 0.00/629 [00:00<?, ?B/s]"
      ]
     },
     "metadata": {},
     "output_type": "display_data"
    },
    {
     "data": {
      "application/vnd.jupyter.widget-view+json": {
       "model_id": "e50e52fb3e794d78bcb7fb6ef5e0e937",
       "version_major": 2,
       "version_minor": 0
      },
      "text/plain": [
       "model.safetensors:   0%|          | 0.00/90.9M [00:00<?, ?B/s]"
      ]
     },
     "metadata": {},
     "output_type": "display_data"
    },
    {
     "data": {
      "application/vnd.jupyter.widget-view+json": {
       "model_id": "27471adcfe33417999f2306a3114bbf9",
       "version_major": 2,
       "version_minor": 0
      },
      "text/plain": [
       "tokenizer_config.json:   0%|          | 0.00/314 [00:00<?, ?B/s]"
      ]
     },
     "metadata": {},
     "output_type": "display_data"
    },
    {
     "data": {
      "application/vnd.jupyter.widget-view+json": {
       "model_id": "f20d8b26ca9349e8bd1fe7a1255fc4d0",
       "version_major": 2,
       "version_minor": 0
      },
      "text/plain": [
       "vocab.txt:   0%|          | 0.00/232k [00:00<?, ?B/s]"
      ]
     },
     "metadata": {},
     "output_type": "display_data"
    },
    {
     "data": {
      "application/vnd.jupyter.widget-view+json": {
       "model_id": "fd7bd988ae154f64acb9bfdf0ceac67a",
       "version_major": 2,
       "version_minor": 0
      },
      "text/plain": [
       "tokenizer.json:   0%|          | 0.00/466k [00:00<?, ?B/s]"
      ]
     },
     "metadata": {},
     "output_type": "display_data"
    },
    {
     "data": {
      "application/vnd.jupyter.widget-view+json": {
       "model_id": "db29d77389814d2584eb15193329a2f9",
       "version_major": 2,
       "version_minor": 0
      },
      "text/plain": [
       "special_tokens_map.json:   0%|          | 0.00/112 [00:00<?, ?B/s]"
      ]
     },
     "metadata": {},
     "output_type": "display_data"
    },
    {
     "data": {
      "application/vnd.jupyter.widget-view+json": {
       "model_id": "b07378e5b15e4d428fe082598a4df0e4",
       "version_major": 2,
       "version_minor": 0
      },
      "text/plain": [
       "1_Pooling/config.json:   0%|          | 0.00/190 [00:00<?, ?B/s]"
      ]
     },
     "metadata": {},
     "output_type": "display_data"
    }
   ],
   "source": [
    "from langchain_huggingface import HuggingFaceEmbeddings\n",
    "embeddings = HuggingFaceEmbeddings(model_name=\"sentence-transformers/paraphrase-MiniLM-L6-v2\")"
   ]
  },
  {
   "cell_type": "code",
   "execution_count": 8,
   "id": "3831afef-b813-4a4a-a18a-83f4eac8f288",
   "metadata": {},
   "outputs": [
    {
     "name": "stdout",
     "output_type": "stream",
     "text": [
      "Collecting faiss-cpu==1.8.0\n",
      "  Downloading faiss_cpu-1.8.0-cp38-cp38-manylinux_2_17_x86_64.manylinux2014_x86_64.whl (27.0 MB)\n",
      "\u001b[K     |████████████████████████████████| 27.0 MB 12.9 MB/s eta 0:00:01\n",
      "\u001b[?25hRequirement already satisfied: numpy in /home/labsuser/.local/lib/python3.8/site-packages (from faiss-cpu==1.8.0) (1.22.0)\n",
      "Installing collected packages: faiss-cpu\n",
      "Successfully installed faiss-cpu-1.8.0\n",
      "Note: you may need to restart the kernel to use updated packages.\n"
     ]
    }
   ],
   "source": [
    "%pip install faiss-cpu==1.8.0"
   ]
  },
  {
   "cell_type": "code",
   "execution_count": 9,
   "id": "2a752a20-e5cb-4078-81b9-106a8b50dda1",
   "metadata": {},
   "outputs": [
    {
     "name": "stdout",
     "output_type": "stream",
     "text": [
      "7\n"
     ]
    }
   ],
   "source": [
    "from langchain.vectorstores import FAISS\n",
    "db = FAISS.from_texts(text_chunks, embeddings)\n",
    "print(db.index.ntotal)"
   ]
  },
  {
   "cell_type": "markdown",
   "id": "3a94fa48-076e-49cb-9c4d-53c6946f2c35",
   "metadata": {},
   "source": [
    "# Setup the Retrieval System"
   ]
  },
  {
   "cell_type": "markdown",
   "id": "da31a0fd-d08b-4985-a262-5f6c9fea7904",
   "metadata": {},
   "source": [
    "Convert the FAISS vector store into a retriever that can return documents for a given unstructured query."
   ]
  },
  {
   "cell_type": "code",
   "execution_count": 10,
   "id": "9839a0e7-9568-4aaf-8231-8fac33e1a8fa",
   "metadata": {},
   "outputs": [],
   "source": [
    "retriever = db.as_retriever()"
   ]
  },
  {
   "cell_type": "code",
   "execution_count": 12,
   "id": "5780cb2d-e8fd-479d-84ce-9b8c9febadfe",
   "metadata": {},
   "outputs": [
    {
     "name": "stdout",
     "output_type": "stream",
     "text": [
      "[Document(page_content='deliversuperiortechnologysolutions,ensuringrobustfinancialperformanceandcontinued\\nmarketleadership.\\n7 NexGen AI Tech Solutions - Quarterly Earnings Meeting - Q2 2024\\nQuarterly Earnings Meeting - Q2 2024\\nDate: June 15, 2024\\nLocation: Conference Room A\\nAttendees:\\n- Jessica Hynes, CEO\\n- Martin Wells, CFO\\n- Samantha Lee, CTO\\n- Alan Rickman, Director of AI Research and Development\\n- Tanya Morris, Director of European Market Expansion\\n- Henry Cho, Director of Asian Market Operations\\n- Elaine Gupta, Customer Engagement Manager\\nMeeting Agenda:\\n1. Review of Q2 Financial Performance\\n2. Departmental Revenue Analysis\\n3. Strategic Initiatives and Roadmap for 2024\\n4. Customer Engagement Enhancements\\n5. Market Trends and Projections\\n6. Open Discussion and Strategic Adjustments\\n7. Conclusion and Next Steps\\nDetailed Meeting Notes:\\nPage 1 NexGen AI Tech Solutions - Quarterly Earnings Meeting - Q2 2024\\n1. Financial Overview:'), Document(page_content='NexGen AI Tech Solutions\\nQuarterly Earnings\\nReport for Q2 2024\\n4th June, 2024 Contents\\n1. ExecutiveSummary\\n2. FinancialPerformance\\n3. RevenuebyDepartment\\n4. StrategicInitiatives\\n5. ExpectedPerformancefortheRestof2024\\n6. Conclusion\\n1 Executive Summary\\nInQ22024,NexGenAITechSolutionscontinuedtodriveexceptionalgrowththroughthe\\nstrategicintegrationofAItechnologiesacrossourservicespectrum.Theadoptionof\\ncutting-edgeAIapplicationshasresultedinaremarkable20%growthintotalrevenuecompared\\ntoQ22023,affirmingourleadershipinthetechsolutionssector.\\n2 Financial Performance\\nFinancialPerformanceinQ22024\\n● TotalRevenue:$6.5million,up20%from$5.4millioninQ22023.\\n● GrossProfit:$4.8million,representingagrossmarginof73.8%.\\n● OperatingExpenses:$2.5million,focusedonexpandingourAIcapabilitiesand\\ninfrastructure.\\n● NetIncome:$2.3million,anetmarginof35.4%,upfrom$2.0millioninQ22023.\\n3 Revenue by Department\\n● AI-PoweredCloudServices:$2.8million,up25%from$2.24million.'), Document(page_content=\"Page 2 NexGen AI Tech Solutions - Quarterly Earnings Meeting - Q2 2024\\nDiscussions revolved around potential challenges in international expansions, such as regulatory\\nhurdles and local competition.\\n7. Conclusion:\\nJessica Hynes concluded the meeting by appreciating the team's efforts and setting a follow-up\\nmeeting to review the progress on the discussed initiatives.\\nPage 3\"), Document(page_content='Martin Wells reported a significant 20% increase in total revenue for Q2 2024, reaching $6.5\\nmillion. The net income rose to $2.3 million, marking a robust growth from the previous year.\\n2. Revenue by Department:\\nSamantha Lee highlighted exceptional growth in AI-Powered Cloud Services and AI-Enhanced\\nCybersecurity Solutions. A consistent growth was maintained in Support and AI Maintenance\\nservices.\\n3. Strategic Initiatives for 2024:\\nAlan Rickman detailed the plan to enhance AI R&D, with a budget increase of 20% aimed at\\ndeveloping proprietary AI algorithms.\\nTanya Morris and Henry Cho discussed strategies for strengthening market presence in Europe\\nand Asia.\\n4. Customer Engagement Enhancements:\\nElaine Gupta introduced a cutting-edge AI-driven platform designed to personalize customer\\ninteractions.\\n5. Market Trends and Projections:\\nBased on the strategic initiatives and current market dynamics, Henry Cho projected a 12-15%\\nrevenue increase by the year-end.\\n6. Open Discussion:')]\n"
     ]
    }
   ],
   "source": [
    "print(retriever.invoke(\"Who is the CEO?\"))"
   ]
  },
  {
   "cell_type": "markdown",
   "id": "60edc3de-5e74-4426-b372-a812744fc5af",
   "metadata": {},
   "source": [
    "# Create a RAG prompt template"
   ]
  },
  {
   "cell_type": "markdown",
   "id": "7dd58bbc-65dc-4243-b5be-f57a227925d2",
   "metadata": {},
   "source": [
    "Create an appropriate prompt template that includes both the question and the necessary context to answer the question posted by the user.\n",
    "\n",
    "The goal of defining a prompt template is to translate user input and parameters into clear instructions for the OpenAI language model.  This will help the model understand the context and answer the question posted by the user."
   ]
  },
  {
   "cell_type": "code",
   "execution_count": 14,
   "id": "17488196-c29c-42e4-adfd-2613ddd842cd",
   "metadata": {},
   "outputs": [],
   "source": [
    "template = \"\"\"\n",
    "    Answer the question based only on the following context:\n",
    "    {context}\n",
    " \n",
    "    Question: {input}\n",
    "\"\"\""
   ]
  },
  {
   "cell_type": "code",
   "execution_count": 15,
   "id": "cdc086d7-b07f-49c3-a547-8c6422418063",
   "metadata": {},
   "outputs": [
    {
     "data": {
      "text/plain": [
       "ChatPromptTemplate(input_variables=['context', 'input'], messages=[HumanMessagePromptTemplate(prompt=PromptTemplate(input_variables=['context', 'input'], template='\\n    Answer the question based only on the following context:\\n    {context}\\n \\n    Question: {input}\\n'))])"
      ]
     },
     "execution_count": 15,
     "metadata": {},
     "output_type": "execute_result"
    }
   ],
   "source": [
    "from langchain_core.prompts import ChatPromptTemplate\n",
    "prompt = ChatPromptTemplate.from_template(template)\n",
    "prompt"
   ]
  },
  {
   "cell_type": "markdown",
   "id": "8f32d5ac-ef44-41d4-b3c6-2d2977f4be06",
   "metadata": {},
   "source": [
    "# Setup the LLM and RAG retrieval chain"
   ]
  },
  {
   "cell_type": "markdown",
   "id": "0468e9c5-7c1f-492d-8814-9acdd39e50c0",
   "metadata": {},
   "source": [
    "Construct a chain that can be used to generate a response based on a set of documents and a user query.\n",
    "\n",
    "Then construct a RAG retrieval chain that will take a user query as input, pass this information to the retriever to fetch relevant documents, and finally pass both the user query and the document content as context to the OpenAI model to generate a response."
   ]
  },
  {
   "cell_type": "code",
   "execution_count": 16,
   "id": "44516cc9-4cfc-40df-894f-0e5329ae68e5",
   "metadata": {},
   "outputs": [],
   "source": [
    "from langchain_openai import ChatOpenAI\n",
    "llm = ChatOpenAI(model_name=\"gpt-3.5-turbo\")"
   ]
  },
  {
   "cell_type": "markdown",
   "id": "5bbeb0f0-a146-4707-b878-c13773c69205",
   "metadata": {},
   "source": [
    "Construct the chain that will be subsequently used to generate a response based on a set of documents and a question."
   ]
  },
  {
   "cell_type": "code",
   "execution_count": 17,
   "id": "50420a99-6595-46ec-a620-f7f8d95a9309",
   "metadata": {},
   "outputs": [],
   "source": [
    "from langchain.chains.combine_documents import create_stuff_documents_chain\n",
    "combine_docs_chain = create_stuff_documents_chain(\n",
    "    llm, prompt\n",
    ")"
   ]
  },
  {
   "cell_type": "markdown",
   "id": "26d94fa1-5987-4e87-9730-f797c7b3af80",
   "metadata": {},
   "source": [
    "Create the retrieval chain"
   ]
  },
  {
   "cell_type": "code",
   "execution_count": 18,
   "id": "56785d35-5234-4bd2-a669-e8b73a49b402",
   "metadata": {},
   "outputs": [
    {
     "name": "stderr",
     "output_type": "stream",
     "text": [
      "huggingface/tokenizers: The current process just got forked, after parallelism has already been used. Disabling parallelism to avoid deadlocks...\n",
      "To disable this warning, you can either:\n",
      "\t- Avoid using `tokenizers` before the fork if possible\n",
      "\t- Explicitly set the environment variable TOKENIZERS_PARALLELISM=(true | false)\n"
     ]
    },
    {
     "name": "stdout",
     "output_type": "stream",
     "text": [
      "Jessica Hynes\n"
     ]
    }
   ],
   "source": [
    "from langchain.chains import create_retrieval_chain\n",
    "rag_chain = create_retrieval_chain(retriever, combine_docs_chain)\n",
    "print(rag_chain.invoke({\"input\": \"Who is the CEO of the company?\"}).get(\"answer\"))"
   ]
  },
  {
   "cell_type": "markdown",
   "id": "ef890d6c-3882-462b-a002-0c554ead663b",
   "metadata": {},
   "source": [
    "# Test the RAG Application"
   ]
  },
  {
   "cell_type": "code",
   "execution_count": 20,
   "id": "da8a291d-e3a7-4cb6-a4c8-17bf083a2253",
   "metadata": {},
   "outputs": [
    {
     "name": "stdout",
     "output_type": "stream",
     "text": [
      "What was the total revenue in Q2 2024?\n",
      "The total revenue in Q2 2024 was $6.5 million.\n"
     ]
    }
   ],
   "source": [
    "input = \"What was the total revenue in Q2 2024?\"\n",
    "print(input)\n",
    "print(rag_chain.invoke({\"input\": input}).get(\"answer\"))"
   ]
  },
  {
   "cell_type": "code",
   "execution_count": 21,
   "id": "4d55cc46-d310-4849-bea6-8328c4743ebf",
   "metadata": {},
   "outputs": [
    {
     "name": "stdout",
     "output_type": "stream",
     "text": [
      "Which department had the higest revenue?\n",
      "The AI-Powered Cloud Services department had the highest revenue with $2.8 million in Q2 2024.\n"
     ]
    }
   ],
   "source": [
    "input = \"Which department had the higest revenue?\"\n",
    "print(input)\n",
    "print(rag_chain.invoke({\"input\": input}).get(\"answer\"))"
   ]
  },
  {
   "cell_type": "code",
   "execution_count": 22,
   "id": "70ab80f3-6e0c-4ad2-992b-43e8dd42ba19",
   "metadata": {},
   "outputs": [
    {
     "name": "stdout",
     "output_type": "stream",
     "text": [
      "{'input': 'Which department had the higest revenue?', 'context': [Document(page_content='Martin Wells reported a significant 20% increase in total revenue for Q2 2024, reaching $6.5\\nmillion. The net income rose to $2.3 million, marking a robust growth from the previous year.\\n2. Revenue by Department:\\nSamantha Lee highlighted exceptional growth in AI-Powered Cloud Services and AI-Enhanced\\nCybersecurity Solutions. A consistent growth was maintained in Support and AI Maintenance\\nservices.\\n3. Strategic Initiatives for 2024:\\nAlan Rickman detailed the plan to enhance AI R&D, with a budget increase of 20% aimed at\\ndeveloping proprietary AI algorithms.\\nTanya Morris and Henry Cho discussed strategies for strengthening market presence in Europe\\nand Asia.\\n4. Customer Engagement Enhancements:\\nElaine Gupta introduced a cutting-edge AI-driven platform designed to personalize customer\\ninteractions.\\n5. Market Trends and Projections:\\nBased on the strategic initiatives and current market dynamics, Henry Cho projected a 12-15%\\nrevenue increase by the year-end.\\n6. Open Discussion:'), Document(page_content='deliversuperiortechnologysolutions,ensuringrobustfinancialperformanceandcontinued\\nmarketleadership.\\n7 NexGen AI Tech Solutions - Quarterly Earnings Meeting - Q2 2024\\nQuarterly Earnings Meeting - Q2 2024\\nDate: June 15, 2024\\nLocation: Conference Room A\\nAttendees:\\n- Jessica Hynes, CEO\\n- Martin Wells, CFO\\n- Samantha Lee, CTO\\n- Alan Rickman, Director of AI Research and Development\\n- Tanya Morris, Director of European Market Expansion\\n- Henry Cho, Director of Asian Market Operations\\n- Elaine Gupta, Customer Engagement Manager\\nMeeting Agenda:\\n1. Review of Q2 Financial Performance\\n2. Departmental Revenue Analysis\\n3. Strategic Initiatives and Roadmap for 2024\\n4. Customer Engagement Enhancements\\n5. Market Trends and Projections\\n6. Open Discussion and Strategic Adjustments\\n7. Conclusion and Next Steps\\nDetailed Meeting Notes:\\nPage 1 NexGen AI Tech Solutions - Quarterly Earnings Meeting - Q2 2024\\n1. Financial Overview:'), Document(page_content='NexGen AI Tech Solutions\\nQuarterly Earnings\\nReport for Q2 2024\\n4th June, 2024 Contents\\n1. ExecutiveSummary\\n2. FinancialPerformance\\n3. RevenuebyDepartment\\n4. StrategicInitiatives\\n5. ExpectedPerformancefortheRestof2024\\n6. Conclusion\\n1 Executive Summary\\nInQ22024,NexGenAITechSolutionscontinuedtodriveexceptionalgrowththroughthe\\nstrategicintegrationofAItechnologiesacrossourservicespectrum.Theadoptionof\\ncutting-edgeAIapplicationshasresultedinaremarkable20%growthintotalrevenuecompared\\ntoQ22023,affirmingourleadershipinthetechsolutionssector.\\n2 Financial Performance\\nFinancialPerformanceinQ22024\\n● TotalRevenue:$6.5million,up20%from$5.4millioninQ22023.\\n● GrossProfit:$4.8million,representingagrossmarginof73.8%.\\n● OperatingExpenses:$2.5million,focusedonexpandingourAIcapabilitiesand\\ninfrastructure.\\n● NetIncome:$2.3million,anetmarginof35.4%,upfrom$2.0millioninQ22023.\\n3 Revenue by Department\\n● AI-PoweredCloudServices:$2.8million,up25%from$2.24million.'), Document(page_content=\"Page 2 NexGen AI Tech Solutions - Quarterly Earnings Meeting - Q2 2024\\nDiscussions revolved around potential challenges in international expansions, such as regulatory\\nhurdles and local competition.\\n7. Conclusion:\\nJessica Hynes concluded the meeting by appreciating the team's efforts and setting a follow-up\\nmeeting to review the progress on the discussed initiatives.\\nPage 3\")], 'answer': 'The AI-Powered Cloud Services department had the highest revenue of $2.8 million, representing a 25% increase from the previous year.'}\n"
     ]
    }
   ],
   "source": [
    "print(rag_chain.invoke({\"input\": input}))"
   ]
  },
  {
   "cell_type": "markdown",
   "id": "d8aa1106-65d3-4b78-98ff-006487a79b5b",
   "metadata": {},
   "source": []
  }
 ],
 "metadata": {
  "kernelspec": {
   "display_name": "Python 3 (ipykernel)",
   "language": "python",
   "name": "python3"
  },
  "language_info": {
   "codemirror_mode": {
    "name": "ipython",
    "version": 3
   },
   "file_extension": ".py",
   "mimetype": "text/x-python",
   "name": "python",
   "nbconvert_exporter": "python",
   "pygments_lexer": "ipython3",
   "version": "3.8.10"
  }
 },
 "nbformat": 4,
 "nbformat_minor": 5
}
